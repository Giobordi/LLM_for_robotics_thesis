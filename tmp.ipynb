{
 "cells": [
  {
   "cell_type": "code",
   "execution_count": 5,
   "metadata": {},
   "outputs": [
    {
     "data": {
      "text/plain": [
       "[\"porta l'ordine al cubo 1, 2 e 3. Poi vai a pulire il bagno\",\n",
       " \"l'orine per il tavolo 1 è pronto, portalo, poi lo stesso per il tavolo 2. Poi vai a pulire i fornelli\",\n",
       " \"il latte è finito, rifornisci il frigo. Poi vai a portare l'ordine al tavolo 3, 4 e 5\",\n",
       " \"la prima comanda è 'pollo al forno e bibita giacciata' al tavolo 3, poi la seconda '2 drink freddi' al cubo 2fai vedere al cliente dov'è il bagno e poi porta gli ordini ai tavolo 4,5 e 6, poi fai un rifornimento di bibite fredde\",\n",
       " \"rifornisci il frigo con il la passata di pomodoro, poi porta l'ordine al tavolo 3, e poi vai metti nel forno il pollo\",\n",
       " \"fai vedere al cliente dov'è il bagno e poi porta gli ordini ai tavolo 4 e 5, poi sposta delle bibite calde nel frigo per farle raffreddare\",\n",
       " \"vai a prendere una coca a temperatura ambiente per il tavolo 3 e poi fai un refill di succhi a temperatura ambiente, successivamente porta l'ordine al tavolo 1 e al cubo 2\",\n",
       " \"porta a lavare i piatti del tavolo 1, poi porta l'ordine al tavolo 2, poi vai a pulire il bagno e infine porta l'ordine al tavolo 3\",\n",
       " \"prepara l'ordine per il cube 1 e portaglielo , comanda   : acqua a temperatura ambiente, drink ghiacciato, formaggi spalmabili, infine prendi i piatti sporchi del tavolo 2 e portali a lavare\",\n",
       " \"Ritira i piatti sporchi dai tavoli 4, 5 e 6, poi porta l'ordine al tavolo 1, 2\",\n",
       " \"accompagna i clienti che aspettano nella hall al tavoli 7 e poi accompagna gli altri al tavolo 1. Poi porta l'ordine al tavolo 2 e sparecchia il tavolo 3\",\n",
       " \"scalda il dessert che è nel frigo e portalo al tavolo 4, poi prepara un uovo al tegamino per il tavolo 5 e anche l'acqua\",\n",
       " \"devi portare l'ordine al tavolo 4 e al tavolo 5 prima di andare a prendere il latte che è finito e mettilo nel frigo, poi fai anche un refill di bibite a temperatura ambiente e infine porta l'ordine al tavolo 6 e 7\",\n",
       " \"ritira i piatti dal tavolo 1 e poi porta l'ordine al tavolo 2, poi prepara l'ordine per il cubo 3 e portalo, drink ghiacciato, salame.\",\n",
       " \"porta l'ordine al tavolo 3 e poi vai a prendere il sale che è finito e lascialo dai fornelli. Poi accogli i clienti che entrano e portali al tavolo 4\",\n",
       " 'porta un the caldo al cubo 1 e poi fai un refill di bibite ghiacciate e un refill di scatolette di tonno',\n",
       " \"butta il cibo scaduto che c'è nel frigo e nel mobiletto, poi porta l'ordine al tavolo 1 e al tavolo 2.\",\n",
       " \"servi l'ordine al tavolo 5 e poi accogli i primi clienti che aspettano, hanno prenotato al tavolo 6, poi accogli i secondi clienti e portali al tavolo 7\",\n",
       " 'vai a prendere in dispensa la frutta e mettila in frigo, poi componi la comanda per il tavolo 3 e portalo, uovo al tegamino, bibita ghiacciata.',\n",
       " \"vai a pulire il bagno, poi accogli i clienti che entrano e portali al tavolo 4, poi porta l'ordine al tavolo 5 e al tavolo 6\"]"
      ]
     },
     "execution_count": 5,
     "metadata": {},
     "output_type": "execute_result"
    }
   ],
   "source": [
    "import re\n",
    "\n",
    "# Your input string\n",
    "input = '''porta l'ordine al cubo 1, 2 e 3. Poi vai a pulire il bagno. Poi vai ad accogliere i clienti e portali al tavolo 1.\n",
    "\n",
    "l'orine per il tavolo 1 è pronto, portalo, poi lo stesso per il tavolo 2. Poi vai a pulire i fornelli e fai rifornimento di bibite calde.\n",
    "\n",
    "il latte è finito, rifornisci il frigo. Poi vai a portare l'ordine al tavolo 3, 4 e 5\n",
    "\n",
    "la prima comanda è 'pollo al forno e bibita giacciata' al tavolo 3, poi la seconda '2 drink freddi' al cubo 2fai vedere al cliente dov'è il bagno e poi porta gli ordini ai tavolo 4,5 e 6, poi fai un rifornimento di bibite fredde\n",
    "\n",
    "rifornisci il frigo con il la passata di pomodoro, poi porta l'ordine al tavolo 3, e poi vai metti nel forno il pollo\n",
    "\n",
    "fai vedere al cliente dov'è il bagno e poi porta gli ordini ai tavolo 4 e 5, poi sposta delle bibite calde nel frigo per farle raffreddare\n",
    "\n",
    "vai a prendere una coca a temperatura ambiente per il tavolo 3 e poi fai un refill di succhi a temperatura ambiente, successivamente porta l'ordine al tavolo 1 e al cubo 2\n",
    "\n",
    "porta a lavare i piatti del tavolo 1, poi porta l'ordine al tavolo 2, poi vai a pulire il bagno e infine porta l'ordine al tavolo 3\n",
    "\n",
    "prepara l'ordine per il cube 1 e portaglielo , comanda   : acqua a temperatura ambiente, drink ghiacciato, formaggi spalmabili, infine prendi i piatti sporchi del tavolo 2 e portali a lavare\n",
    "\n",
    "Ritira i piatti sporchi dai tavoli 4, 5 e 6, poi porta l'ordine al tavolo 1, 2\n",
    "\n",
    "accompagna i clienti che aspettano nella hall al tavoli 7 e poi accompagna gli altri al tavolo 1. Poi porta l'ordine al tavolo 2 e sparecchia il tavolo 3\n",
    "\n",
    "scalda il dessert che è nel frigo e portalo al tavolo 4, poi prepara un uovo al tegamino per il tavolo 5 e anche l'acqua\n",
    "\n",
    "devi portare l'ordine al tavolo 4 e al tavolo 5 prima di andare a prendere il latte che è finito e mettilo nel frigo, poi fai anche un refill di bibite a temperatura ambiente e infine porta l'ordine al tavolo 6 e 7\n",
    "\n",
    "ritira i piatti dal tavolo 1 e poi porta l'ordine al tavolo 2, poi prepara l'ordine per il cubo 3 e portalo, drink ghiacciato, salame.\n",
    "\n",
    "porta l'ordine al tavolo 3 e poi vai a prendere il sale che è finito e lascialo dai fornelli. Poi accogli i clienti che entrano e portali al tavolo 4\n",
    "\n",
    "porta un the caldo al cubo 1 e poi fai un refill di bibite ghiacciate e un refill di scatolette di tonno\n",
    "\n",
    "butta il cibo scaduto che c'è nel frigo e nel mobiletto, poi porta l'ordine al tavolo 1 e al tavolo 2.\n",
    "\n",
    "servi l'ordine al tavolo 5 e poi accogli i primi clienti che aspettano, hanno prenotato al tavolo 6, poi accogli i secondi clienti e portali al tavolo 7\n",
    "\n",
    "vai a prendere in dispensa la frutta e mettila in frigo, poi componi la comanda per il tavolo 3 e portalo, uovo al tegamino, bibita ghiacciata.\n",
    "\n",
    "vai a pulire il bagno, poi accogli i clienti che entrano e portali al tavolo 4, poi porta l'ordine al tavolo 5 e al tavolo 6'''.split('\\n\\n')\n",
    "input"
   ]
  },
  {
   "cell_type": "code",
   "execution_count": null,
   "metadata": {},
   "outputs": [],
   "source": [
    "## create a pickle from the previous list\n",
    "import pickle\n",
    "with open('input.pkl', 'wb') as f:\n",
    "    pickle.dump(input, f)\n",
    "    \n",
    "## load the pickle\n",
    "import pickle\n",
    "with open('input.pkl', 'rb') as f:\n",
    "    input = pickle.load(f)\n",
    "    print(input)"
   ]
  }
 ],
 "metadata": {
  "kernelspec": {
   "display_name": ".venv",
   "language": "python",
   "name": "python3"
  },
  "language_info": {
   "codemirror_mode": {
    "name": "ipython",
    "version": 3
   },
   "file_extension": ".py",
   "mimetype": "text/x-python",
   "name": "python",
   "nbconvert_exporter": "python",
   "pygments_lexer": "ipython3",
   "version": "3.11.6"
  }
 },
 "nbformat": 4,
 "nbformat_minor": 2
}
