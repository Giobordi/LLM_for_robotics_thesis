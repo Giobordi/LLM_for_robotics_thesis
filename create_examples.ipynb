{
 "cells": [
  {
   "cell_type": "markdown",
   "metadata": {},
   "source": [
    "## Notebook to upload Examples in the Excel"
   ]
  },
  {
   "cell_type": "code",
   "execution_count": 8,
   "metadata": {},
   "outputs": [
    {
     "data": {
      "text/plain": [
       "True"
      ]
     },
     "execution_count": 8,
     "metadata": {},
     "output_type": "execute_result"
    }
   ],
   "source": [
    "import pandas as pd\n",
    "import os\n",
    "from openai import OpenAI\n",
    "import sklearn as sk\n",
    "from sklearn.metrics.pairwise import euclidean_distances\n",
    "from dotenv import load_dotenv\n",
    "load_dotenv('.env.local')"
   ]
  },
  {
   "cell_type": "code",
   "execution_count": 9,
   "metadata": {},
   "outputs": [],
   "source": [
    "\n",
    "def get_embedding(text, model=\"large\"):\n",
    "    if model == 'large' : \n",
    "      emb_model = \"text-embedding-3-large\"\n",
    "    elif model == 'small' :\n",
    "        emb_model = \"text-embedding-3-small\"\n",
    "    else: \n",
    "        emb_model = \"text-embedding-ada-002\"\n",
    "    client = OpenAI(api_key=os.getenv(\"OPENAI_API_KEY\") )\n",
    "    text = text.replace(\"\\n\", \" \")\n",
    "    return client.embeddings.create(input = [text], model=emb_model).data[0].embedding\n"
   ]
  },
  {
   "cell_type": "code",
   "execution_count": 10,
   "metadata": {},
   "outputs": [],
   "source": [
    "def update_example(user_question, list_of_obstacles, actions):\n",
    "    examples_template = {\n",
    "    \"user_question\": user_question.strip(),\n",
    "    \"list_of_obstacles\": str(list_of_obstacles),\n",
    "    \"actions\" : str(actions),\n",
    "    \"embedding_question\" : get_embedding(user_question, \"ada\"),\n",
    "}\n",
    "    try : \n",
    "        df = pd.read_pickle(os.path.join(\"data\", \"examples.pkl\"))\n",
    "    except FileNotFoundError:\n",
    "        df = pd.DataFrame(columns = examples_template.keys())\n",
    "    df_new = pd.DataFrame( [examples_template ], columns = examples_template.keys())\n",
    "    df = pd.concat([df, df_new], ignore_index=True)\n",
    "    df.to_pickle(os.path.join(\"data\", \"examples.pkl\"))"
   ]
  },
  {
   "cell_type": "code",
   "execution_count": 11,
   "metadata": {},
   "outputs": [],
   "source": [
    "examples = list() \n",
    "\n",
    "user_question = \"The robot should create an half circle with a radius of 2 meters\"\n",
    "list_of_obstacles = \"The room has 4 walls that surround the room and a squared table with opposite vertex (x=6.5,y=5.5) and (x=8.5,y=7.5).\"\n",
    "actions =\"\"\" \"actions\" : [\n",
    "    \"The first action is to MOVE BACKWARD of 1.5 meters to avoid the table during the half circle creation. The robot reaches the point (x=4, y=5.5).\",\n",
    "    \"The second action is to TURN RIGHT of 90 degrees at constant speed to create the half circle (the orientation is along x-decreasing). The robot reaches the point (x=4, y=1.5). The total path is 2*PI*R / 2 with R=2 meters that means 6.28 m that means a speed of 3.14 m/s. for 2 seconds.\",\n",
    "    \"The third action is to ROTATE RIGHT of 90 degrees to reach the orientation along y-increasing.(x=4, y=1.5) \"\n",
    "    \"The last action is to MOVE FORWARD of 4 meters to reach the point (x=4, y=5.5) and complete the trajectory.\"\n",
    "    ]\"\"\"\n",
    "\n",
    "update_example(user_question, list_of_obstacles, actions)"
   ]
  },
  {
   "cell_type": "code",
   "execution_count": 17,
   "metadata": {},
   "outputs": [
    {
     "data": {
      "text/html": [
       "<div>\n",
       "<style scoped>\n",
       "    .dataframe tbody tr th:only-of-type {\n",
       "        vertical-align: middle;\n",
       "    }\n",
       "\n",
       "    .dataframe tbody tr th {\n",
       "        vertical-align: top;\n",
       "    }\n",
       "\n",
       "    .dataframe thead th {\n",
       "        text-align: right;\n",
       "    }\n",
       "</style>\n",
       "<table border=\"1\" class=\"dataframe\">\n",
       "  <thead>\n",
       "    <tr style=\"text-align: right;\">\n",
       "      <th></th>\n",
       "      <th>user_question</th>\n",
       "      <th>list_of_obstacles</th>\n",
       "      <th>actions</th>\n",
       "      <th>embedding_question</th>\n",
       "      <th>distance</th>\n",
       "    </tr>\n",
       "  </thead>\n",
       "  <tbody>\n",
       "    <tr>\n",
       "      <th>0</th>\n",
       "      <td>The robot must reach the point (10, 10) and c...</td>\n",
       "      <td>The room has 4 walls that surround the room</td>\n",
       "      <td>\"actions\" : [\\n    \"The first action is to MO...</td>\n",
       "      <td>[-0.003744511865079403, -0.0452059768140316, -...</td>\n",
       "      <td>0.560633</td>\n",
       "    </tr>\n",
       "    <tr>\n",
       "      <th>2</th>\n",
       "      <td>The robot should create a rhombus with angles ...</td>\n",
       "      <td>The room has 4 walls that surround the room.</td>\n",
       "      <td>\"actions\" : [\\n    \"The first action is ROTAT...</td>\n",
       "      <td>[0.0016683696303516626, -0.012177547439932823,...</td>\n",
       "      <td>0.500631</td>\n",
       "    </tr>\n",
       "    <tr>\n",
       "      <th>3</th>\n",
       "      <td>The robot should create an half circle with a ...</td>\n",
       "      <td>The room has 4 walls that surround the room an...</td>\n",
       "      <td>\"actions\" : [\\n    \"The first action is to MO...</td>\n",
       "      <td>[0.008686479181051254, 0.011246704496443272, -...</td>\n",
       "      <td>NaN</td>\n",
       "    </tr>\n",
       "  </tbody>\n",
       "</table>\n",
       "</div>"
      ],
      "text/plain": [
       "                                       user_question  \\\n",
       "0   The robot must reach the point (10, 10) and c...   \n",
       "2  The robot should create a rhombus with angles ...   \n",
       "3  The robot should create an half circle with a ...   \n",
       "\n",
       "                                   list_of_obstacles  \\\n",
       "0        The room has 4 walls that surround the room   \n",
       "2       The room has 4 walls that surround the room.   \n",
       "3  The room has 4 walls that surround the room an...   \n",
       "\n",
       "                                             actions  \\\n",
       "0   \"actions\" : [\\n    \"The first action is to MO...   \n",
       "2   \"actions\" : [\\n    \"The first action is ROTAT...   \n",
       "3   \"actions\" : [\\n    \"The first action is to MO...   \n",
       "\n",
       "                                  embedding_question  distance  \n",
       "0  [-0.003744511865079403, -0.0452059768140316, -...  0.560633  \n",
       "2  [0.0016683696303516626, -0.012177547439932823,...  0.500631  \n",
       "3  [0.008686479181051254, 0.011246704496443272, -...       NaN  "
      ]
     },
     "execution_count": 17,
     "metadata": {},
     "output_type": "execute_result"
    }
   ],
   "source": [
    "df = pd.read_pickle(os.path.join(\"data\", \"examples.pkl\"))\n",
    "df\n",
    "\n",
    "##remove the second example\n",
    "# df = df.drop(1)\n",
    "# df\n",
    "#df.to_pickle(os.path.join(\"data\", \"examples.pkl\"))\n"
   ]
  },
  {
   "cell_type": "code",
   "execution_count": 56,
   "metadata": {},
   "outputs": [
    {
     "name": "stdout",
     "output_type": "stream",
     "text": [
      "The robot should exit from the house.\n"
     ]
    }
   ],
   "source": [
    "def retrive_nearest_question(user_question):\n",
    "    df : pd.DataFrame = pd.read_pickle(os.path.join(\"data\", \"examples.pkl\"))\n",
    "    user_question_embedding = get_embedding(user_question, \"ada\")\n",
    "    df = pd.read_pickle(os.path.join(\"data\", \"examples.pkl\"))\n",
    "    df[\"distance\"] = df.embedding_question.apply(lambda x : euclidean_distances([user_question_embedding], [x])[0][0])\n",
    "    return df.sort_values(\"distance\").iloc[0].user_question\n",
    "    \n",
    "print(retrive_nearest_question(\"The robot must go out from the cage\"))"
   ]
  },
  {
   "cell_type": "code",
   "execution_count": 20,
   "metadata": {},
   "outputs": [
    {
     "name": "stdout",
     "output_type": "stream",
     "text": [
      " As an expert in robotics programming, your task is to create a  sequence of commands to control the trajectory of a robot simulation, based on the following requirements:\n",
      "The field is a square measuring 11.0 meters in both the x and y directions.\n",
      "The robot’s starting point is at x=0 and y=0, with the head oriented along the positive x-axis (forward direction).\n",
      "Each JSON object in the sequence should contain the following fields:\n",
      "\t    - reasoning: reason behind the movement\n",
      "\t    - frontal_speed: speed of forward movement, in m/s\n",
      "\t    - angular_speed: angular speed of anti-clockwise rotation, in degrees per second\n",
      "\t    - time: The duration of a single movement,in seconds\n",
      "To make the robot curve its trajectory, combine both linear and angular speeds.\n",
      "Do not include any comments as they may cause the application to crash.\n",
      "Example : \n",
      "user : create a reversed U \n",
      "assistant : [{'reasoning' : 'rotate of 90° to go upwards with an angular speed on 45  degree/s for 2.0 second.',\n",
      "      'frontal_speed' : 0.0,'angular_speed' : 45.0,'time' : 2.0 },\n",
      "      'reasoning' : 'go forward at 1 m/s for 2 second to have a line of 2 m','frontal_speed' : 1.0,'angular_speed' : 0.0,'time' : 2.0},\n",
      "      {'reasoning' : 'To create the curve of the U i to rotate of 90° clockwise maintaining a linear speed of 1 m/s for at least 2 second',\n",
      "      'frontal_speed' : 1.0,'angular_speed' : -90.0,'time' : 2.0 },{ 'reasoning' :  'to reach the goal go forward for 1 s at 2 m/s',\n",
      "      'frontal_speed' : 2.0,'angular_speed' : 0.0,'time' : 1.0}]\n",
      "\n",
      "\n"
     ]
    }
   ],
   "source": [
    "from pprint import pprint\n",
    "\n",
    "print(\"\"\" As an expert in robotics programming, your task is to create a  sequence of commands to control the trajectory of a robot simulation, based on the following requirements:\n",
    "The field is a square measuring 11.0 meters in both the x and y directions.\n",
    "The robot’s starting point is at x=0 and y=0, with the head oriented along the positive x-axis (forward direction).\n",
    "Each JSON object in the sequence should contain the following fields:\n",
    "\t    - reasoning: reason behind the movement\n",
    "\t    - frontal_speed: speed of forward movement, in m/s\n",
    "\t    - angular_speed: angular speed of anti-clockwise rotation, in degrees per second\n",
    "\t    - time: The duration of a single movement,in seconds\n",
    "To make the robot curve its trajectory, combine both linear and angular speeds.\n",
    "Do not include any comments as they may cause the application to crash.\n",
    "Example : \n",
    "user : create a reversed U \n",
    "assistant : [{'reasoning' : 'rotate of 90° to go upwards with an angular speed on 45  degree/s for 2.0 second.',\n",
    "      'frontal_speed' : 0.0,'angular_speed' : 45.0,'time' : 2.0 },\n",
    "      'reasoning' : 'go forward at 1 m/s for 2 second to have a line of 2 m','frontal_speed' : 1.0,'angular_speed' : 0.0,'time' : 2.0},\n",
    "      {'reasoning' : 'To create the curve of the U i to rotate of 90° clockwise maintaining a linear speed of 1 m/s for at least 2 second',\n",
    "      'frontal_speed' : 1.0,'angular_speed' : -90.0,'time' : 2.0 },{ 'reasoning' :  'to reach the goal go forward for 1 s at 2 m/s',\n",
    "      'frontal_speed' : 2.0,'angular_speed' : 0.0,'time' : 1.0}]\n",
    "\n",
    "\"\"\")"
   ]
  }
 ],
 "metadata": {
  "kernelspec": {
   "display_name": ".venv",
   "language": "python",
   "name": "python3"
  },
  "language_info": {
   "codemirror_mode": {
    "name": "ipython",
    "version": 3
   },
   "file_extension": ".py",
   "mimetype": "text/x-python",
   "name": "python",
   "nbconvert_exporter": "python",
   "pygments_lexer": "ipython3",
   "version": "3.11.6"
  }
 },
 "nbformat": 4,
 "nbformat_minor": 2
}
